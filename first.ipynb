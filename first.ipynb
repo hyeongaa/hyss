{
  "nbformat": 4,
  "nbformat_minor": 0,
  "metadata": {
    "colab": {
      "name": "first.ipynb",
      "provenance": [],
      "collapsed_sections": [],
      "include_colab_link": true
    },
    "kernelspec": {
      "name": "python3",
      "display_name": "Python 3"
    },
    "language_info": {
      "name": "python"
    }
  },
  "cells": [
    {
      "cell_type": "markdown",
      "metadata": {
        "id": "view-in-github",
        "colab_type": "text"
      },
      "source": [
        "<a href=\"https://colab.research.google.com/github/hyeongaa/hyss/blob/main/first.ipynb\" target=\"_parent\"><img src=\"https://colab.research.google.com/assets/colab-badge.svg\" alt=\"Open In Colab\"/></a>"
      ]
    },
    {
      "cell_type": "markdown",
      "source": [
        "python의 기초를 한번 해볼까요??\n",
        "\n",
        "짧은 시간 동안 많이 배울 수는 없기에 한번 간단하게 같이 따라해봅시다!!"
      ],
      "metadata": {
        "id": "2DQq-15QtmRc"
      }
    },
    {
      "cell_type": "code",
      "source": [
        ""
      ],
      "metadata": {
        "id": "xV55wTNDvrmt"
      },
      "execution_count": null,
      "outputs": []
    },
    {
      "cell_type": "markdown",
      "source": [
        "먼저 우리가 하는 간단한 사칙 연산 해볼게요\n",
        "\n"
      ],
      "metadata": {
        "id": "xeb_qTUjtlMz"
      }
    },
    {
      "cell_type": "code",
      "source": [
        "1+1"
      ],
      "metadata": {
        "colab": {
          "base_uri": "https://localhost:8080/"
        },
        "id": "PY5ujSh5uGKV",
        "outputId": "62a2316b-f212-4392-9004-661992e91e1e"
      },
      "execution_count": null,
      "outputs": [
        {
          "output_type": "execute_result",
          "data": {
            "text/plain": [
              "2"
            ]
          },
          "metadata": {},
          "execution_count": 1
        }
      ]
    },
    {
      "cell_type": "markdown",
      "source": [
        "이제 계산을 편하게 하기 위해서 다양한 변수에 숫자를 넣을 수가 있습니다."
      ],
      "metadata": {
        "id": "OcO4uY22uQCA"
      }
    },
    {
      "cell_type": "code",
      "source": [
        "a=1+2*2\n",
        "b=1"
      ],
      "metadata": {
        "id": "HScZCP_MuNp-"
      },
      "execution_count": null,
      "outputs": []
    },
    {
      "cell_type": "markdown",
      "source": [
        "이 미지수를 활용하여 사칙 연산이 가능합니다."
      ],
      "metadata": {
        "id": "7uRZ5UlkujDz"
      }
    },
    {
      "cell_type": "code",
      "source": [
        "a*b"
      ],
      "metadata": {
        "colab": {
          "base_uri": "https://localhost:8080/"
        },
        "id": "-b58ZFMGuh7h",
        "outputId": "6e49a47b-01c6-4ee0-a506-35a71cd502ad"
      },
      "execution_count": null,
      "outputs": [
        {
          "output_type": "execute_result",
          "data": {
            "text/plain": [
              "5"
            ]
          },
          "metadata": {},
          "execution_count": 10
        }
      ]
    },
    {
      "cell_type": "code",
      "source": [
        "a/b"
      ],
      "metadata": {
        "colab": {
          "base_uri": "https://localhost:8080/"
        },
        "id": "dhzE18yeveij",
        "outputId": "ae9b68b1-d8d2-4aac-bbb3-4db10f04e98f"
      },
      "execution_count": null,
      "outputs": [
        {
          "output_type": "execute_result",
          "data": {
            "text/plain": [
              "5.0"
            ]
          },
          "metadata": {},
          "execution_count": 7
        }
      ]
    },
    {
      "cell_type": "markdown",
      "source": [
        "python에서 문장을 출력하는 법 배워봅시다."
      ],
      "metadata": {
        "id": "SUNb4GjTvlws"
      }
    },
    {
      "cell_type": "code",
      "source": [
        "print(\"hello world\")"
      ],
      "metadata": {
        "colab": {
          "base_uri": "https://localhost:8080/"
        },
        "id": "s8NoP56ivj9a",
        "outputId": "ba644bf2-9b79-4c8e-b734-a932475b721e"
      },
      "execution_count": null,
      "outputs": [
        {
          "output_type": "stream",
          "name": "stdout",
          "text": [
            "hello world\n"
          ]
        }
      ]
    },
    {
      "cell_type": "markdown",
      "source": [
        "아까 미지수도 출력이 가능합니다."
      ],
      "metadata": {
        "id": "eyDdGwq0wG6G"
      }
    },
    {
      "cell_type": "code",
      "source": [
        "c=a+b\n",
        "print(c)"
      ],
      "metadata": {
        "colab": {
          "base_uri": "https://localhost:8080/"
        },
        "id": "IRnd_S5VwJ9-",
        "outputId": "597a50bc-50d1-430e-f1d4-6c341cf2e89a"
      },
      "execution_count": null,
      "outputs": [
        {
          "output_type": "stream",
          "name": "stdout",
          "text": [
            "6\n"
          ]
        }
      ]
    },
    {
      "cell_type": "code",
      "source": [
        "print(\"나는 \"+str(c)+\"살 입니다.\")"
      ],
      "metadata": {
        "colab": {
          "base_uri": "https://localhost:8080/"
        },
        "id": "6TA7pVDbwYN9",
        "outputId": "f8e532c7-f79c-4ce5-fc80-f1bf90bfbc2e"
      },
      "execution_count": null,
      "outputs": [
        {
          "output_type": "stream",
          "name": "stdout",
          "text": [
            "나는 6살 입니다.\n"
          ]
        }
      ]
    },
    {
      "cell_type": "markdown",
      "source": [
        "한번 리뷰를 해봅시다.\n",
        "\n",
        "다음의 문장을 출력할 것입니다.\n",
        "\n",
        "\"준혁이는 일주일 동안 수학 공부를 12시간을 하였고, 준범이는 일주일 동안 국어 공부를 7시간 하였다. 둘이 운동한 총 시간은 19시간이다.\""
      ],
      "metadata": {
        "id": "NNlUM1_bwT1s"
      }
    },
    {
      "cell_type": "markdown",
      "source": [
        "1. 먼저 변수를 설정해야겠죠? 변수를 설정해봅시다! a를 준혁이의 공부 시간, b를 준범이의 공부 시간으로 설정하고 c를 그 둘의 합으로 설정해봅시다!"
      ],
      "metadata": {
        "id": "yUIQ-Ohixr1j"
      }
    },
    {
      "cell_type": "code",
      "source": [
        "a=\n",
        "b=\n",
        "\n",
        "c="
      ],
      "metadata": {
        "id": "7KWXd6TBxyVG"
      },
      "execution_count": null,
      "outputs": []
    },
    {
      "cell_type": "markdown",
      "source": [
        "이 문장을 출력해봅시다."
      ],
      "metadata": {
        "id": "9kzMPsnJxy9i"
      }
    },
    {
      "cell_type": "code",
      "source": [
        ""
      ],
      "metadata": {
        "id": "MNrG9dzmx__6"
      },
      "execution_count": null,
      "outputs": []
    },
    {
      "cell_type": "markdown",
      "source": [
        "사실 python을 이용하면서 가장 편한 점은 list를 사용할 수 있다는 점이에요. 한번 같이 사용해 봅시다.\n",
        "\n",
        "다음 리스트는 5명 학생의 수학 점수를 나타낸 리스트입니다!"
      ],
      "metadata": {
        "id": "A1IP99LzyCEF"
      }
    },
    {
      "cell_type": "code",
      "source": [
        "score=[98,84,20,54,27]"
      ],
      "metadata": {
        "id": "ucAMb_jSyBaC"
      },
      "execution_count": null,
      "outputs": []
    },
    {
      "cell_type": "markdown",
      "source": [
        "이 중 세번째의 점수가 준혁이의 점수라면, 준혁이 점수만 따로 빼볼까요? 컴퓨터 언어에서 list를 활용할 때에는 첫번째를 1이 아닌 0부터 시작하게 됩니다!"
      ],
      "metadata": {
        "id": "EcjzZyjiyg98"
      }
    },
    {
      "cell_type": "code",
      "source": [
        "score_jh=score[2]\n",
        "\n",
        "print(score_jh)"
      ],
      "metadata": {
        "colab": {
          "base_uri": "https://localhost:8080/"
        },
        "id": "GCPNgi-IzIw3",
        "outputId": "1b6db644-a7b2-42de-97cd-99a32c7da170"
      },
      "execution_count": null,
      "outputs": [
        {
          "output_type": "stream",
          "name": "stdout",
          "text": [
            "20\n"
          ]
        }
      ]
    },
    {
      "cell_type": "markdown",
      "source": [
        "준범이의 점수가 첫번째 점수라고 합니다. 준범이의 점수를 한번 빼볼까요?"
      ],
      "metadata": {
        "id": "CtpnSas_zIL_"
      }
    },
    {
      "cell_type": "code",
      "source": [
        "score_jb=\n",
        "\n",
        "print(score_jb)"
      ],
      "metadata": {
        "id": "u6RKgLdDzoVk"
      },
      "execution_count": null,
      "outputs": []
    },
    {
      "cell_type": "markdown",
      "source": [
        "앞에서 배운것들을 이용하면 둘의 점수의 차이도 구할 수 있습니다.\n",
        "\n"
      ],
      "metadata": {
        "id": "nnCjOw5cztWC"
      }
    },
    {
      "cell_type": "code",
      "source": [
        "gap=score_jb-score_jh"
      ],
      "metadata": {
        "id": "86kB2IaPz50f"
      },
      "execution_count": null,
      "outputs": []
    },
    {
      "cell_type": "markdown",
      "source": [
        "마지막으로 dictionary라는 것을 해볼려고 해요!\n",
        "\n",
        "아까 해본 것에서 준혁이의 점수는 20점 준범이의 점수는 98점이었죠? 이것을 한번에 리스트 형식으로 저장하는 방법이에요"
      ],
      "metadata": {
        "id": "zwREEBEQ1E3n"
      }
    },
    {
      "cell_type": "code",
      "source": [
        "d={\"준혁\":20, \"준범\":98, \"홍준\":85, \"우림\":75, \"지훈\":32}"
      ],
      "metadata": {
        "id": "SUAndv2V1a-z"
      },
      "execution_count": null,
      "outputs": []
    },
    {
      "cell_type": "code",
      "source": [
        "print(d)"
      ],
      "metadata": {
        "colab": {
          "base_uri": "https://localhost:8080/"
        },
        "id": "gfVvFl5x1qZp",
        "outputId": "0e18d248-3942-43ca-8170-5bd4d290bcfc"
      },
      "execution_count": null,
      "outputs": [
        {
          "output_type": "stream",
          "name": "stdout",
          "text": [
            "{'준혁': 20, '준범': 98, '홍준': 85, '우림': 75, '지훈': 32}\n"
          ]
        }
      ]
    },
    {
      "cell_type": "markdown",
      "source": [
        "여기서 준혁이의 점수만 알고 싶다면?"
      ],
      "metadata": {
        "id": "Fx47pajn1901"
      }
    },
    {
      "cell_type": "code",
      "source": [
        "print(d[\"준혁\"])"
      ],
      "metadata": {
        "colab": {
          "base_uri": "https://localhost:8080/"
        },
        "id": "xMLIwrZw1tk0",
        "outputId": "a113a21e-d9df-4e87-d00f-378d0340c0d6"
      },
      "execution_count": null,
      "outputs": [
        {
          "output_type": "stream",
          "name": "stdout",
          "text": [
            "20\n"
          ]
        }
      ]
    },
    {
      "cell_type": "markdown",
      "source": [
        "컴퓨터의 언어에는 다양한 반복구문이 있어요. 반복적인 작업을 할 수 있게 만드는 것인데, 이번에 for구문만 볼 것입니다! 한번 봐볼까요?"
      ],
      "metadata": {
        "id": "odxNmqTt2ErU"
      }
    },
    {
      "cell_type": "code",
      "source": [
        "for i in range(10):\n",
        "  print(i)"
      ],
      "metadata": {
        "colab": {
          "base_uri": "https://localhost:8080/"
        },
        "id": "1MEMGUJq2TIj",
        "outputId": "4144612f-de8e-442b-e280-2c536cd7ab1c"
      },
      "execution_count": null,
      "outputs": [
        {
          "output_type": "stream",
          "name": "stdout",
          "text": [
            "0\n",
            "1\n",
            "2\n",
            "3\n",
            "4\n",
            "5\n",
            "6\n",
            "7\n",
            "8\n",
            "9\n"
          ]
        }
      ]
    },
    {
      "cell_type": "markdown",
      "source": [
        "이런 식으로 반복적으로 작업을 할 수 있게 해요!\n",
        "\n",
        "아까 만든 dictionary를 이용하여 점수를 설명해봅시다!"
      ],
      "metadata": {
        "id": "E9Zqb3jN2nxs"
      }
    },
    {
      "cell_type": "code",
      "source": [
        "for i in d:\n",
        "    scores=d[i]\n",
        "    print(' %s은 %d점을 받았다.' % (i, scores))"
      ],
      "metadata": {
        "colab": {
          "base_uri": "https://localhost:8080/"
        },
        "id": "b4oeVoTq2yOh",
        "outputId": "8523700d-054e-45a0-f883-2156a91e8095"
      },
      "execution_count": null,
      "outputs": [
        {
          "output_type": "stream",
          "name": "stdout",
          "text": [
            " 준혁은 20점을 받았다.\n",
            " 준범은 98점을 받았다.\n",
            " 홍준은 85점을 받았다.\n",
            " 우림은 75점을 받았다.\n",
            " 지훈은 32점을 받았다.\n"
          ]
        }
      ]
    }
  ]
}